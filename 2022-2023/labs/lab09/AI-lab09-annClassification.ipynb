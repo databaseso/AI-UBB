{
 "cells": [
  {
   "cell_type": "markdown",
   "source": [
    "# Probleme de clasificare folosind ANN <img src=\"images/ann.jpeg\" width=\"150\">\r\n"
   ],
   "metadata": {}
  },
  {
   "cell_type": "markdown",
   "source": [
    "\r\n",
    "## Obiective\r\n",
    "* rezolvarea unei probleme de clasificare multi-clasa (metoda bazata pe $softmax$)\r\n",
    "* folosirea unor algoritmi ne-liniari bazati pe retele neuronale (parametrii unei retele)\r\n",
    "* normalizarea datelor (atributelor datelor)\r\n",
    "\r\n",
    "## Cuvinte cheie:\r\n",
    "* date de antrenare si date de testare \r\n",
    "* atribute/catacteristici ale datelor\r\n",
    "* etichete ale datelor\r\n",
    "* normalizare date \r\n",
    "* model de clasificare ne-liniar\r\n",
    "* arhitectura (inputs, weights, ) si parametrii unei retele neuronale\r\n",
    "* acuratetea, precizia si rapelul clasificarii\r\n"
   ],
   "metadata": {}
  },
  {
   "cell_type": "markdown",
   "source": [
    "## Aspecte teoretice"
   ],
   "metadata": {}
  },
  {
   "cell_type": "markdown",
   "source": [
    "Detalii despre ANN \r\n",
    "* parametrii \r\n",
    "    - layers - configuration of the multilayer perceptron layers (array of numbers where every number represents the number of neurons in specific layer).\r\n",
    "    - max_iterations (no epochs) - this is the maximum number of iterations that gradient descent algorithm will use to find the minimum of a cost function. Low numbers may prevent gradient descent from reaching the minimum. High numbers will make the algorithm work longer without improving its accuracy.\r\n",
    "    - Optional: regularization_param - parameter that will fight overfitting. The higher the parameter, the simplier is the model will be.\r\n",
    "    \r\n",
    "* structura (layere in, out, hiddent)\r\n",
    "* cum arata layerul de input (in fc de problema ce trebuie rezolvata si feature-urile folosite; nrNeuroni = nrFeatures)\r\n",
    "* cum arata layerul de output (pt o probl de clasificare cu k clase, softmax)\r\n"
   ],
   "metadata": {}
  },
  {
   "cell_type": "markdown",
   "source": [
    "### Formalizare problema de clasificare multiclasa: <img src=\"images/softmax.jpg\" width=\"200\">"
   ],
   "metadata": {}
  },
  {
   "cell_type": "markdown",
   "source": [
    "#### **One vs. all** multi-class classification\r\n"
   ],
   "metadata": {}
  },
  {
   "cell_type": "markdown",
   "source": [
    "\r\n",
    "<details>\r\n",
    "  <summary>Remember the theory behind **One vs. all** </summary>\r\n",
    "\r\n",
    "\r\n",
    "* **One vs. all** provides a way to leverage binary classification. Given a classification problem with $noClasses$ possible solutions, a one-vs.-all solution consists of $noClasses$ separate binary classifiers—one binary classifier for each possible outcome. During training, the model runs through a sequence of binary classifiers, training each to answer a separate classification question. For example, given five possible classes (apple, bear, candy, dog, egg) and a picture of a dog, five different recognizers might be trained, four seeing the image as a negative example (not a dog) and one seeing the image as a positive example (a dog). That is:\r\n",
    "    - Is this image an apple? No.\r\n",
    "    - Is this image a bear? No.\r\n",
    "    - Is this image candy? No.\r\n",
    "    - Is this image a dog? Yes.\r\n",
    "    - Is this image an egg? No.\r\n",
    "\r\n",
    "\r\n",
    "<img src=\"images/OneVsAll.svg\" width=\"200\">\r\n",
    "\r\n",
    "This approach is fairly reasonable when the total number of classes is small, but becomes increasingly inefficient as the number of classes rises\r\n",
    "\r\n",
    "</details>\r\n"
   ],
   "metadata": {}
  },
  {
   "cell_type": "markdown",
   "source": [
    "#### Softmax multi-class classification"
   ],
   "metadata": {}
  },
  {
   "cell_type": "markdown",
   "source": [
    "\r\n",
    "* **Softmax** Recall that logistic regression produces a decimal between 0 and 1.0 $sigmoid(val) = \\frac{1}{1 + e^{-val}}$. For example, a logistic regression output of 0.8 from an email classifier suggests an 80% chance of an email being spam and a 20% chance of it being not spam. Clearly, the sum of the probabilities of an email being either spam or not spam is 1.0. Softmax extends this idea into a multi-class world. That is, Softmax assigns decimal probabilities to each class in a multi-class problem. Those decimal probabilities must add up to 1.0. This additional constraint helps training converge more quickly than it otherwise would. For example, returning to the image analysis, Softmax might produce the following likelihoods of an image belonging to a particular class:\r\n",
    "\r\n",
    "| Class\t| Probability |\r\n",
    "| :---: | :---------: |\r\n",
    "| apple\t| 0.001 |\r\n",
    "| bear\t| 0.04 |\r\n",
    "| candy\t| 0.008 |\r\n",
    "| dog\t| 0.95 |\r\n",
    "| egg\t| 0.001 |\r\n",
    "\r\n",
    "Softmax is implemented through a neural network layer just before the output layer. The Softmax layer must have the same number of nodes as the output layer.\r\n",
    "\r\n",
    "<img src=\"images/SoftmaxLayer.svg\" width=\"200\">\r\n",
    "\r\n",
    "The Softmax equation is as follows:\r\n",
    "\r\n",
    "$$softmax(val_i) = \\frac{e^{val_i}}{\\sum_{j=1}^{noClasses}{e^{val_j}}}$$\r\n"
   ],
   "metadata": {}
  },
  {
   "cell_type": "markdown",
   "source": [
    "## Exemple"
   ],
   "metadata": {}
  },
  {
   "cell_type": "markdown",
   "source": [
    "### Demo1 - clasificare multi-class"
   ],
   "metadata": {}
  },
  {
   "cell_type": "markdown",
   "source": [
    "####\tProblema: Ce fel de floare preferi?\r\n",
    "\r\n",
    "Se consideră, din nou, problema clasificării florilor de iris în diferite specii precum: setosa, versicolor și virginica. Pentru fiecare floare se cunosc caracteristici precum: lungimea și lățimea sepalei, lungimea și lățimea petalei. Mai multe detalii despre acest set se pot găsi la [link](https://archive.ics.uci.edu/ml/datasets/Iris). Folosindu-se aceste informații, să se decidă din ce specie aparține o anumită floare. \r\n",
    "\r\n",
    "Să se rezolve problema, implementându-se rutine pentru clasificarea multi-clasă folosind rețele neuronale artificiale (cu tool).\r\n"
   ],
   "metadata": {}
  },
  {
   "cell_type": "markdown",
   "source": [
    "#### Metodologie pentru a aplica o ANN (in fapt, un MLP) cu o anumita arhitectura pe setul de date iris (3 clase)\r\n",
    "    \r\n",
    "* step1: load data (iris data and all features) \r\n",
    "* step2: impartire pe train si test; normalizare; analiza distributiei datelor pe clase - pt a verifica daca e echilibrat setul de train\r\n",
    "* step3: invatare model (cu tool neural_network.MLPClassifier() -- [link](https://scikit-learn.org/stable/modules/neural_networks_supervised.html))\r\n",
    "    - exemplificare cu model posibil ne-liniar (ANN)\r\n",
    "* step4: testare model, plot rezultate, forma outputului si interpretarea lui\r\n",
    "* step5: calcul metrici de performanta (acc)\r\n"
   ],
   "metadata": {}
  },
  {
   "cell_type": "code",
   "execution_count": 1,
   "source": [
    "from sklearn.preprocessing import StandardScaler\r\n",
    "import numpy as np \r\n",
    "from sklearn import neural_network\r\n",
    "import matplotlib.pyplot as plt \r\n",
    "from sklearn import neural_network\r\n",
    "from sklearn import linear_model\r\n"
   ],
   "outputs": [],
   "metadata": {}
  },
  {
   "cell_type": "markdown",
   "source": [
    "#### Pasul 1: inspectarea datelor"
   ],
   "metadata": {}
  },
  {
   "cell_type": "code",
   "execution_count": 2,
   "source": [
    "# step1: load the data\r\n",
    "\r\n",
    "def loadIrisData():\r\n",
    "    from sklearn.datasets import load_iris\r\n",
    "\r\n",
    "    data = load_iris()\r\n",
    "    inputs = data['data']\r\n",
    "    outputs = data['target']\r\n",
    "    outputNames = data['target_names']\r\n",
    "    featureNames = list(data['feature_names'])\r\n",
    "    feature1 = [feat[featureNames.index('sepal length (cm)')] for feat in inputs]\r\n",
    "    feature2 = [feat[featureNames.index('petal length (cm)')] for feat in inputs]\r\n",
    "    inputs = [[feat[featureNames.index('sepal length (cm)')], feat[featureNames.index('petal length (cm)')]] for feat in inputs]    \r\n",
    "    return inputs, outputs, outputNames\r\n",
    "\r\n",
    "inData, outData, featNames = loadIrisData()\r\n",
    "print(featNames)\r\n",
    "print(inData[0], inData[50], inData[-5])\r\n",
    "print(outData[0], outData[50], outData[-5])\r\n"
   ],
   "outputs": [
    {
     "output_type": "stream",
     "name": "stdout",
     "text": [
      "['setosa' 'versicolor' 'virginica']\n",
      "[5.1, 1.4] [7.0, 4.7] [6.7, 5.2]\n",
      "0 1 2\n"
     ]
    }
   ],
   "metadata": {}
  },
  {
   "cell_type": "code",
   "execution_count": 3,
   "source": [
    "inputs, outputs, outputNames = loadIrisData()"
   ],
   "outputs": [],
   "metadata": {}
  },
  {
   "cell_type": "markdown",
   "source": [
    "#### Pasul 2 - impartire pe train si test; normalizare; analiza distributiei datelor pe clase - pt a verifica daca e echilibrat setul de train"
   ],
   "metadata": {}
  },
  {
   "cell_type": "code",
   "execution_count": 4,
   "source": [
    "# step2: split data into train and test\r\n",
    "\r\n",
    "def splitData(inputs, outputs):\r\n",
    "    np.random.seed(5)\r\n",
    "    indexes = [i for i in range(len(inputs))]\r\n",
    "    trainSample = np.random.choice(indexes, int(0.8 * len(inputs)), replace = False)\r\n",
    "    testSample = [i for i in indexes  if not i in trainSample]\r\n",
    "\r\n",
    "    trainInputs = [inputs[i] for i in trainSample]\r\n",
    "    trainOutputs = [outputs[i] for i in trainSample]\r\n",
    "    testInputs = [inputs[i] for i in testSample]\r\n",
    "    testOutputs = [outputs[i] for i in testSample]\r\n",
    "    \r\n",
    "    return trainInputs, trainOutputs, testInputs, testOutputs"
   ],
   "outputs": [],
   "metadata": {}
  },
  {
   "cell_type": "code",
   "execution_count": 5,
   "source": [
    "def normalisation(trainData, testData):\r\n",
    "    scaler = StandardScaler()\r\n",
    "    if not isinstance(trainData[0], list):\r\n",
    "        #encode each sample into a list\r\n",
    "        trainData = [[d] for d in trainData]\r\n",
    "        testData = [[d] for d in testData]\r\n",
    "        \r\n",
    "        scaler.fit(trainData)  #  fit only on training data\r\n",
    "        normalisedTrainData = scaler.transform(trainData) # apply same transformation to train data\r\n",
    "        normalisedTestData = scaler.transform(testData)  # apply same transformation to test data\r\n",
    "        \r\n",
    "        #decode from list to raw values\r\n",
    "        normalisedTrainData = [el[0] for el in normalisedTrainData]\r\n",
    "        normalisedTestData = [el[0] for el in normalisedTestData]\r\n",
    "    else:\r\n",
    "        scaler.fit(trainData)  #  fit only on training data\r\n",
    "        normalisedTrainData = scaler.transform(trainData) # apply same transformation to train data\r\n",
    "        normalisedTestData = scaler.transform(testData)  # apply same transformation to test data\r\n",
    "    return normalisedTrainData, normalisedTestData"
   ],
   "outputs": [],
   "metadata": {}
  },
  {
   "cell_type": "code",
   "execution_count": 6,
   "source": [
    "def data2FeaturesMoreClasses(inputs, outputs):\r\n",
    "    labels = set(outputs)\r\n",
    "    noData = len(inputs)\r\n",
    "    for crtLabel in labels:\r\n",
    "        x = [inputs[i][0] for i in range(noData) if outputs[i] == crtLabel ]\r\n",
    "        y = [inputs[i][1] for i in range(noData) if outputs[i] == crtLabel ]\r\n",
    "        plt.scatter(x, y, label = outputNames[crtLabel])\r\n",
    "    plt.xlabel('feat1')\r\n",
    "    plt.ylabel('feat2')\r\n",
    "    plt.legend()\r\n",
    "    plt.show() "
   ],
   "outputs": [],
   "metadata": {}
  },
  {
   "cell_type": "code",
   "execution_count": 7,
   "source": [
    "\r\n",
    "trainInputs, trainOutputs, testInputs, testOutputs = splitData(inputs, outputs)\r\n",
    "\r\n",
    "# plot the training data distribution on classes\r\n",
    "plt.hist(trainOutputs, 3, rwidth = 0.8)\r\n",
    "plt.xticks(np.arange(len(outputNames)), outputNames)\r\n",
    "plt.show()\r\n",
    "\r\n",
    "# plot the data in order to observe the shape of the classifier required in this problem\r\n",
    "data2FeaturesMoreClasses(trainInputs, trainOutputs)\r\n",
    "\r\n",
    "# normalise the data\r\n",
    "trainInputs, testInputs = normalisation(trainInputs, testInputs)"
   ],
   "outputs": [
    {
     "output_type": "display_data",
     "data": {
      "image/png": "[encoded data removed]",
      "text/plain": [
       "<Figure size 432x288 with 1 Axes>"
      ]
     },
     "metadata": {
      "needs_background": "light"
     }
    },
    {
     "output_type": "display_data",
     "data": {
      "image/png": "[encoded data removed]",
      "text/plain": [
       "<Figure size 432x288 with 1 Axes>"
      ]
     },
     "metadata": {
      "needs_background": "light"
     }
    }
   ],
   "metadata": {}
  },
  {
   "cell_type": "markdown",
   "source": [
    "#### Pasul 3 - invatare model (cu tool neural_network.MLPClassifier() -- [link](https://scikit-learn.org/stable/modules/neural_networks_supervised.html))"
   ],
   "metadata": {}
  },
  {
   "cell_type": "code",
   "execution_count": 8,
   "source": [
    "\r\n",
    "\r\n",
    "classifier = neural_network.MLPClassifier()\r\n",
    "\r\n",
    "def training(classifier, trainInputs, trainOutputs):\r\n",
    "    # step3: training the classifier\r\n",
    "    # identify (by training) the classification model\r\n",
    "    classifier.fit(trainInputs, trainOutputs)\r\n",
    "\r\n",
    "\r\n"
   ],
   "outputs": [],
   "metadata": {}
  },
  {
   "cell_type": "code",
   "execution_count": 9,
   "source": [
    "# liniar classifier and one-vs-all approach for multi-class\r\n",
    "# classifier = linear_model.LogisticRegression()\r\n",
    "\r\n",
    "# non-liniar classifier and softmax approach for multi-class \r\n",
    "classifier = neural_network.MLPClassifier(hidden_layer_sizes=(5,), activation='relu', max_iter=100, solver='sgd', verbose=10, random_state=1, learning_rate_init=.1)\r\n",
    "\r\n",
    "\r\n",
    "training(classifier, trainInputs, trainOutputs)\r\n"
   ],
   "outputs": [
    {
     "output_type": "stream",
     "name": "stdout",
     "text": [
      "Iteration 1, loss = 0.89050498\n",
      "Iteration 2, loss = 0.79020695\n",
      "Iteration 3, loss = 0.70261682\n",
      "Iteration 4, loss = 0.63795055\n",
      "Iteration 5, loss = 0.59294737\n",
      "Iteration 6, loss = 0.55980303\n",
      "Iteration 7, loss = 0.53299519\n",
      "Iteration 8, loss = 0.50913765\n",
      "Iteration 9, loss = 0.48668042\n",
      "Iteration 10, loss = 0.46438364\n",
      "Iteration 11, loss = 0.44226943\n",
      "Iteration 12, loss = 0.42161313\n",
      "Iteration 13, loss = 0.40252943\n",
      "Iteration 14, loss = 0.38534053\n",
      "Iteration 15, loss = 0.37002397\n",
      "Iteration 16, loss = 0.35631526\n",
      "Iteration 17, loss = 0.34377371\n",
      "Iteration 18, loss = 0.33211015\n",
      "Iteration 19, loss = 0.32117627\n",
      "Iteration 20, loss = 0.31100910\n",
      "Iteration 21, loss = 0.30165144\n",
      "Iteration 22, loss = 0.29309232\n",
      "Iteration 23, loss = 0.28528781\n",
      "Iteration 24, loss = 0.27814662\n",
      "Iteration 25, loss = 0.27156702\n",
      "Iteration 26, loss = 0.26545860\n",
      "Iteration 27, loss = 0.25974428\n",
      "Iteration 28, loss = 0.25437110\n",
      "Iteration 29, loss = 0.24930393\n",
      "Iteration 30, loss = 0.24408987\n",
      "Iteration 31, loss = 0.23811077\n",
      "Iteration 32, loss = 0.23162447\n",
      "Iteration 33, loss = 0.22490352\n",
      "Iteration 34, loss = 0.21497096\n",
      "Iteration 35, loss = 0.20554855\n",
      "Iteration 36, loss = 0.19718520\n",
      "Iteration 37, loss = 0.18966263\n",
      "Iteration 38, loss = 0.18223410\n",
      "Iteration 39, loss = 0.17485126\n",
      "Iteration 40, loss = 0.16785569\n",
      "Iteration 41, loss = 0.16143204\n",
      "Iteration 42, loss = 0.15572747\n",
      "Iteration 43, loss = 0.15071215\n",
      "Iteration 44, loss = 0.14628971\n",
      "Iteration 45, loss = 0.14235733\n",
      "Iteration 46, loss = 0.13886647\n",
      "Iteration 47, loss = 0.13577750\n",
      "Iteration 48, loss = 0.13305631\n",
      "Iteration 49, loss = 0.13069278\n",
      "Iteration 50, loss = 0.12861612\n",
      "Iteration 51, loss = 0.12676304\n",
      "Iteration 52, loss = 0.12509602\n",
      "Iteration 53, loss = 0.12355165\n",
      "Iteration 54, loss = 0.12211156\n",
      "Iteration 55, loss = 0.12074778\n",
      "Iteration 56, loss = 0.11944302\n",
      "Iteration 57, loss = 0.11818239\n",
      "Iteration 58, loss = 0.11695905\n",
      "Iteration 59, loss = 0.11576846\n",
      "Iteration 60, loss = 0.11460792\n",
      "Iteration 61, loss = 0.11347679\n",
      "Iteration 62, loss = 0.11237826\n",
      "Iteration 63, loss = 0.11131574\n",
      "Iteration 64, loss = 0.11029242\n",
      "Iteration 65, loss = 0.10931112\n",
      "Iteration 66, loss = 0.10837413\n",
      "Iteration 67, loss = 0.10748299\n",
      "Iteration 68, loss = 0.10663840\n",
      "Iteration 69, loss = 0.10584046\n",
      "Iteration 70, loss = 0.10508807\n",
      "Iteration 71, loss = 0.10437943\n",
      "Iteration 72, loss = 0.10371239\n",
      "Iteration 73, loss = 0.10308449\n",
      "Iteration 74, loss = 0.10249305\n",
      "Iteration 75, loss = 0.10193528\n",
      "Iteration 76, loss = 0.10140841\n",
      "Iteration 77, loss = 0.10090976\n",
      "Iteration 78, loss = 0.10043680\n",
      "Iteration 79, loss = 0.09998717\n",
      "Iteration 80, loss = 0.09955878\n",
      "Iteration 81, loss = 0.09914973\n",
      "Iteration 82, loss = 0.09875838\n",
      "Iteration 83, loss = 0.09838341\n",
      "Iteration 84, loss = 0.09802360\n",
      "Iteration 85, loss = 0.09767779\n",
      "Iteration 86, loss = 0.09734509\n",
      "Iteration 87, loss = 0.09702478\n",
      "Iteration 88, loss = 0.09671622\n",
      "Iteration 89, loss = 0.09641888\n",
      "Iteration 90, loss = 0.09613228\n",
      "Iteration 91, loss = 0.09585601\n",
      "Iteration 92, loss = 0.09558969\n",
      "Iteration 93, loss = 0.09533294\n",
      "Iteration 94, loss = 0.09508543\n",
      "Iteration 95, loss = 0.09484682\n",
      "Iteration 96, loss = 0.09461677\n",
      "Iteration 97, loss = 0.09439494\n",
      "Iteration 98, loss = 0.09418102\n",
      "Iteration 99, loss = 0.09397467\n",
      "Iteration 100, loss = 0.09377557\n"
     ]
    },
    {
     "output_type": "stream",
     "name": "stderr",
     "text": [
      "d:\\_Work\\School\\_2019-2020\\sem2\\AI\\codeExamples\\myenv\\lib\\site-packages\\sklearn\\neural_network\\_multilayer_perceptron.py:571: ConvergenceWarning: Stochastic Optimizer: Maximum iterations (100) reached and the optimization hasn't converged yet.\n",
      "  % self.max_iter, ConvergenceWarning)\n"
     ]
    }
   ],
   "metadata": {}
  },
  {
   "cell_type": "markdown",
   "source": [
    "#### Pasul 4 - testare model, plot rezultate, forma outputului si interpretarea lui"
   ],
   "metadata": {}
  },
  {
   "cell_type": "code",
   "execution_count": 10,
   "source": [
    "def classification(classifier, testInputs):\r\n",
    "    # step4: testing (predict the labels for new inputs)\r\n",
    "    # makes predictions for test data \r\n",
    "    computedTestOutputs = classifier.predict(testInputs)\r\n",
    "\r\n",
    "    return computedTestOutputs"
   ],
   "outputs": [],
   "metadata": {}
  },
  {
   "cell_type": "code",
   "execution_count": 11,
   "source": [
    "predictedLabels = classification(classifier, testInputs)\r\n",
    "\r\n"
   ],
   "outputs": [],
   "metadata": {}
  },
  {
   "cell_type": "markdown",
   "source": [
    "#### Pasul 5 - calcul metrici de performanta (acc, precision, recall)\r\n"
   ],
   "metadata": {}
  },
  {
   "cell_type": "code",
   "execution_count": 12,
   "source": [
    "def plotConfusionMatrix(cm, classNames, title):\r\n",
    "    from sklearn.metrics import confusion_matrix\r\n",
    "    import itertools \r\n",
    "\r\n",
    "    classes = classNames\r\n",
    "    plt.figure()\r\n",
    "    plt.imshow(cm, interpolation = 'nearest', cmap = 'Blues')\r\n",
    "    plt.title('Confusion Matrix ' + title)\r\n",
    "    plt.colorbar()\r\n",
    "    tick_marks = np.arange(len(classNames))\r\n",
    "    plt.xticks(tick_marks, classNames, rotation=45)\r\n",
    "    plt.yticks(tick_marks, classNames)\r\n",
    "\r\n",
    "    text_format = 'd'\r\n",
    "    thresh = cm.max() / 2.\r\n",
    "    for row, column in itertools.product(range(cm.shape[0]), range(cm.shape[1])):\r\n",
    "        plt.text(column, row, format(cm[row, column], text_format),\r\n",
    "                horizontalalignment = 'center',\r\n",
    "                color = 'white' if cm[row, column] > thresh else 'black')\r\n",
    "\r\n",
    "    plt.ylabel('True label')\r\n",
    "    plt.xlabel('Predicted label')\r\n",
    "    plt.tight_layout()\r\n",
    "\r\n",
    "    plt.show()\r\n",
    "\r\n",
    "def evalMultiClass(realLabels, computedLabels, labelNames):\r\n",
    "    from sklearn.metrics import confusion_matrix\r\n",
    "\r\n",
    "    confMatrix = confusion_matrix(realLabels, computedLabels)\r\n",
    "    acc = sum([confMatrix[i][i] for i in range(len(labelNames))]) / len(realLabels)\r\n",
    "    precision = {}\r\n",
    "    recall = {}\r\n",
    "    for i in range(len(labelNames)):\r\n",
    "        precision[labelNames[i]] = confMatrix[i][i] / sum([confMatrix[j][i] for j in range(len(labelNames))])\r\n",
    "        recall[labelNames[i]] = confMatrix[i][i] / sum([confMatrix[i][j] for j in range(len(labelNames))])\r\n",
    "    return acc, precision, recall, confMatrix"
   ],
   "outputs": [],
   "metadata": {}
  },
  {
   "cell_type": "code",
   "execution_count": 13,
   "source": [
    "acc, prec, recall, cm = evalMultiClass(np.array(testOutputs), predictedLabels, outputNames)\r\n",
    "plotConfusionMatrix(cm, outputNames, \"iris classification\")\r\n",
    "\r\n",
    "print('acc: ', acc)\r\n",
    "print('precision: ', prec)\r\n",
    "print('recall: ', recall)\r\n"
   ],
   "outputs": [
    {
     "output_type": "display_data",
     "data": {
      "image/png": "[encoded data removed]",
      "text/plain": [
       "<Figure size 432x288 with 2 Axes>"
      ]
     },
     "metadata": {
      "needs_background": "light"
     }
    },
    {
     "output_type": "stream",
     "name": "stdout",
     "text": [
      "acc:  0.9666666666666667\n",
      "precision:  {'setosa': 1.0, 'versicolor': 0.875, 'virginica': 1.0}\n",
      "recall:  {'setosa': 1.0, 'versicolor': 1.0, 'virginica': 0.9230769230769231}\n"
     ]
    }
   ],
   "metadata": {}
  },
  {
   "cell_type": "markdown",
   "source": [
    "### Demo2 - clasificare multi-class"
   ],
   "metadata": {}
  },
  {
   "cell_type": "markdown",
   "source": [
    "#### Problema: Ce cifră am scris?\r\n",
    "\r\n",
    "Se consideră un set de imagini care conțin cifre scrise de mână. Sa se decida ce cifra apare intr-o imagine.\r\n",
    "\r\n",
    "Să se rezolve problema folosind rețele neuronale artificiale (cu tool). Incercati folosirea unei ANN cu aceeasi arhitectura ca la problema cu florile de iris si analizati ce se intampla.\r\n",
    "\r\n",
    "Metodologie:\r\n",
    "\r\n",
    "Incercam sa aplicam acelasi MLP pt NIST/MNIST set (o parte din date); Observam ca:\r\n",
    "* se parcurg aceeasi pasi ca la clasificarea florilor de iris (mai putin pasul de normalizare, imaginile fiind definite in acelasi domeniu de culori/gri-uri)\r\n",
    "* dar ar tb sa se modifice putin arhitectura ca sa invete un model mai performant\r\n",
    "* challenge: sa se gaseasca cea mai buna arhitectura\r\n",
    "\r\n",
    "* step1: load data (iris data and all features) \r\n",
    "* step2: impartire pe train si test; normalizare; analiza distributiei datelor pe clase - pt a verifica daca e echilibrat setul de train\r\n",
    "* step3: invatare model (cu tool neural_network.MLPClassifier() -- [link](https://scikit-learn.org/stable/modules/neural_networks_supervised.html))\r\n",
    "    - exemplificare cu model posibil ne-liniar (ANN)\r\n",
    "* step4: testare model, plot rezultate, forma outputului si interpretarea lui\r\n",
    "* step5: calcul metrici de performanta (acc)"
   ],
   "metadata": {}
  },
  {
   "cell_type": "markdown",
   "source": [
    "#### Pasul 1 - load the data"
   ],
   "metadata": {}
  },
  {
   "cell_type": "code",
   "execution_count": 14,
   "source": [
    "import numpy as np\r\n",
    "\r\n",
    "def loadDigitData():\r\n",
    "    from sklearn.datasets import load_digits\r\n",
    "\r\n",
    "    data = load_digits()\r\n",
    "    inputs = data.images\r\n",
    "    outputs = data['target']\r\n",
    "    outputNames = data['target_names']\r\n",
    "     \r\n",
    "    # shuffle the original data\r\n",
    "    noData = len(inputs)\r\n",
    "    permutation = np.random.permutation(noData)\r\n",
    "    inputs = inputs[permutation]\r\n",
    "    outputs = outputs[permutation]\r\n",
    "\r\n",
    "    return inputs, outputs, outputNames\r\n",
    "\r\n",
    "inputs, outputs, outputNames = loadDigitData()"
   ],
   "outputs": [],
   "metadata": {}
  },
  {
   "cell_type": "markdown",
   "source": [
    "#### Pasul 2 - split on train and test"
   ],
   "metadata": {}
  },
  {
   "cell_type": "code",
   "execution_count": 15,
   "source": [
    "\r\n",
    "trainInputs, trainOutputs, testInputs, testOutputs = splitData(inputs, outputs)\r\n",
    "# check if the data is uniform distributed over classes\r\n",
    "plt.hist(trainOutputs, rwidth = 0.8)\r\n",
    "plt.xticks(np.arange(len(outputNames)), outputNames)\r\n",
    "plt.show()\r\n",
    "\r\n",
    "\r\n",
    "def flatten(mat):\r\n",
    "    x = []\r\n",
    "    for line in mat:\r\n",
    "        for el in line:\r\n",
    "            x.append(el)\r\n",
    "    return x \r\n",
    "\r\n",
    "trainInputsFlatten = [flatten(el) for el in trainInputs]\r\n",
    "testInputsFlatten = [flatten(el) for el in testInputs]\r\n",
    "trainInputsNormalised, testInputsNormalised = normalisation(trainInputsFlatten, testInputsFlatten)\r\n",
    "\r\n"
   ],
   "outputs": [
    {
     "output_type": "display_data",
     "data": {
      "image/png": "[encoded data removed]",
      "text/plain": [
       "<Figure size 432x288 with 1 Axes>"
      ]
     },
     "metadata": {
      "needs_background": "light"
     }
    }
   ],
   "metadata": {}
  },
  {
   "cell_type": "markdown",
   "source": [
    "#### Pasul 3, 4 si 5 : train and test the classifier"
   ],
   "metadata": {}
  },
  {
   "cell_type": "code",
   "execution_count": 16,
   "source": [
    "\r\n",
    "# try to play by MLP parameters (e.g. change the HL size from 10 to 20 and see how this modification impacts the accuracy)\r\n",
    "classifier = neural_network.MLPClassifier(hidden_layer_sizes=(5, ), activation='relu', max_iter=100, solver='sgd', verbose=10, random_state=1, learning_rate_init=.1)\r\n",
    "\r\n",
    "training(classifier, trainInputsNormalised, trainOutputs)\r\n",
    "predictedLabels = classification(classifier, testInputsNormalised)\r\n",
    "acc, prec, recall, cm = evalMultiClass(np.array(testOutputs), predictedLabels, outputNames)\r\n",
    "\r\n",
    "\r\n",
    "plotConfusionMatrix(cm, outputNames, \"digit classification\")\r\n",
    "print('acc: ', acc)\r\n",
    "print('precision: ', prec)\r\n",
    "print('recall: ', recall)\r\n",
    "\r\n",
    "# plot first 50 test images and their real and computed labels\r\n",
    "n = 10\r\n",
    "m = 5\r\n",
    "fig, axes = plt.subplots(n, m, figsize = (7, 7))\r\n",
    "fig.tight_layout() \r\n",
    "for i in range(0, n):\r\n",
    "    for j in range(0, m):\r\n",
    "        axes[i][j].imshow(testInputs[m * i + j])\r\n",
    "        if (testOutputs[m * i + j] == predictedLabels[m * i + j]):\r\n",
    "            font = 'normal'\r\n",
    "        else:\r\n",
    "            font = 'bold'\r\n",
    "        axes[i][j].set_title('real ' + str(testOutputs[m * i + j]) + '\\npredicted ' + str(predictedLabels[m * i + j]), fontweight=font)\r\n",
    "        axes[i][j].set_axis_off()\r\n",
    "        \r\n",
    "plt.show()"
   ],
   "outputs": [
    {
     "output_type": "stream",
     "name": "stdout",
     "text": [
      "Iteration 1, loss = 2.27810622\n",
      "Iteration 2, loss = 1.54692777\n",
      "Iteration 3, loss = 1.05670217\n",
      "Iteration 4, loss = 0.77847832\n",
      "Iteration 5, loss = 0.60717452\n",
      "Iteration 6, loss = 0.47901016\n",
      "Iteration 7, loss = 0.40583374\n",
      "Iteration 8, loss = 0.36827667\n",
      "Iteration 9, loss = 0.32538813\n",
      "Iteration 10, loss = 0.30243395\n",
      "Iteration 11, loss = 0.27884433\n",
      "Iteration 12, loss = 0.25800418\n",
      "Iteration 13, loss = 0.24334742\n",
      "Iteration 14, loss = 0.22764030\n",
      "Iteration 15, loss = 0.21440147\n",
      "Iteration 16, loss = 0.20150454\n",
      "Iteration 17, loss = 0.19222273\n",
      "Iteration 18, loss = 0.18401795\n",
      "Iteration 19, loss = 0.17212980\n",
      "Iteration 20, loss = 0.16978750\n",
      "Iteration 21, loss = 0.16947651\n",
      "Iteration 22, loss = 0.15838433\n",
      "Iteration 23, loss = 0.15174972\n",
      "Iteration 24, loss = 0.14801898\n",
      "Iteration 25, loss = 0.14762747\n",
      "Iteration 26, loss = 0.14132400\n",
      "Iteration 27, loss = 0.13818281\n",
      "Iteration 28, loss = 0.12827350\n",
      "Iteration 29, loss = 0.12406738\n",
      "Iteration 30, loss = 0.12202021\n",
      "Iteration 31, loss = 0.11743061\n",
      "Iteration 32, loss = 0.11948954\n",
      "Iteration 33, loss = 0.11432581\n",
      "Iteration 34, loss = 0.11047393\n",
      "Iteration 35, loss = 0.10858635\n",
      "Iteration 36, loss = 0.10980388\n",
      "Iteration 37, loss = 0.10693219\n",
      "Iteration 38, loss = 0.10110204\n",
      "Iteration 39, loss = 0.09828087\n",
      "Iteration 40, loss = 0.09753875\n",
      "Iteration 41, loss = 0.09710870\n",
      "Iteration 42, loss = 0.09308111\n",
      "Iteration 43, loss = 0.09201330\n",
      "Iteration 44, loss = 0.09134956\n",
      "Iteration 45, loss = 0.08855829\n",
      "Iteration 46, loss = 0.08864041\n",
      "Iteration 47, loss = 0.08652260\n",
      "Iteration 48, loss = 0.08523878\n",
      "Iteration 49, loss = 0.08278104\n",
      "Iteration 50, loss = 0.07898262\n",
      "Iteration 51, loss = 0.07907191\n",
      "Iteration 52, loss = 0.07608008\n",
      "Iteration 53, loss = 0.07386019\n",
      "Iteration 54, loss = 0.07629073\n",
      "Iteration 55, loss = 0.07144042\n",
      "Iteration 56, loss = 0.06970035\n",
      "Iteration 57, loss = 0.06863056\n",
      "Iteration 58, loss = 0.06764434\n",
      "Iteration 59, loss = 0.07661355\n",
      "Iteration 60, loss = 0.07083359\n",
      "Iteration 61, loss = 0.06737749\n",
      "Iteration 62, loss = 0.06586990\n",
      "Iteration 63, loss = 0.06531608\n",
      "Iteration 64, loss = 0.06382783\n",
      "Iteration 65, loss = 0.06237092\n",
      "Iteration 66, loss = 0.05626866\n",
      "Iteration 67, loss = 0.05722155\n",
      "Iteration 68, loss = 0.05590110\n",
      "Iteration 69, loss = 0.05432936\n",
      "Iteration 70, loss = 0.05350562\n",
      "Iteration 71, loss = 0.05247791\n",
      "Iteration 72, loss = 0.05330700\n",
      "Iteration 73, loss = 0.05214862\n",
      "Iteration 74, loss = 0.05115055\n",
      "Iteration 75, loss = 0.04958065\n",
      "Iteration 76, loss = 0.04789802\n",
      "Iteration 77, loss = 0.04708439\n",
      "Iteration 78, loss = 0.04583936\n",
      "Iteration 79, loss = 0.04593325\n",
      "Iteration 80, loss = 0.04511010\n",
      "Iteration 81, loss = 0.04427681\n",
      "Iteration 82, loss = 0.04354009\n",
      "Iteration 83, loss = 0.04309745\n",
      "Iteration 84, loss = 0.04427819\n",
      "Iteration 85, loss = 0.04293987\n",
      "Iteration 86, loss = 0.04257656\n",
      "Iteration 87, loss = 0.04233506\n",
      "Iteration 88, loss = 0.04082948\n",
      "Iteration 89, loss = 0.04065423\n",
      "Iteration 90, loss = 0.04023065\n",
      "Iteration 91, loss = 0.03928728\n",
      "Iteration 92, loss = 0.03973510\n",
      "Iteration 93, loss = 0.03805991\n",
      "Iteration 94, loss = 0.03779052\n",
      "Iteration 95, loss = 0.03827096\n",
      "Iteration 96, loss = 0.03827080\n",
      "Iteration 97, loss = 0.03969452\n",
      "Iteration 98, loss = 0.03821556\n",
      "Iteration 99, loss = 0.03774332\n",
      "Iteration 100, loss = 0.03726767\n"
     ]
    },
    {
     "output_type": "stream",
     "name": "stderr",
     "text": [
      "d:\\_Work\\School\\_2019-2020\\sem2\\AI\\codeExamples\\myenv\\lib\\site-packages\\sklearn\\neural_network\\_multilayer_perceptron.py:571: ConvergenceWarning: Stochastic Optimizer: Maximum iterations (100) reached and the optimization hasn't converged yet.\n",
      "  % self.max_iter, ConvergenceWarning)\n"
     ]
    },
    {
     "output_type": "display_data",
     "data": {
      "image/png": "[encoded data removed]",
      "text/plain": [
       "<Figure size 432x288 with 2 Axes>"
      ]
     },
     "metadata": {
      "needs_background": "light"
     }
    },
    {
     "output_type": "stream",
     "name": "stdout",
     "text": [
      "acc:  0.9138888888888889\n",
      "precision:  {0: 0.9230769230769231, 1: 0.8857142857142857, 2: 0.926829268292683, 3: 0.9411764705882353, 4: 0.9166666666666666, 5: 0.8823529411764706, 6: 1.0, 7: 0.9230769230769231, 8: 0.9428571428571428, 9: 0.8}\n",
      "recall:  {0: 1.0, 1: 0.96875, 2: 0.95, 3: 0.9142857142857143, 4: 0.868421052631579, 5: 0.9090909090909091, 6: 0.9411764705882353, 7: 0.9230769230769231, 8: 0.7674418604651163, 9: 0.9333333333333333}\n"
     ]
    },
    {
     "output_type": "display_data",
     "data": {
      "image/png": "[encoded data removed]",
      "text/plain": [
       "<Figure size 504x504 with 50 Axes>"
      ]
     },
     "metadata": {
      "needs_background": "light"
     }
    }
   ],
   "metadata": {}
  },
  {
   "cell_type": "markdown",
   "source": [
    "## Problema tema: clasificare poze\r\n",
    "\r\n",
    "Tocmai ti-ai inceput prima ta zi de munca ca si software developer la Facebook in echipa care se ocupa cu partea de continut a platformei. \r\n",
    "\r\n",
    "Echipa de analisti a observat ca foarte multe persoane folosesc filtre peste pozele lor, asadar in speranta de a promova continut mai putin editat, si poze cat mai reale, doresc sa implementeze o noua functionalite in care sa arate utilizatorilor daca o poza a fost sau nu editata. Pentru a testa aceasta idee, si pentru a vedea daca utlizatorilor li s-ar parea folositoare o astfel de functionalitate, au decis sa testeze ideea pe pozele care au filtre sepia. \r\n",
    "\r\n",
    "Primul task al tau este sa implementezi un algoritm de clasificare a pozelor care sa ne spuna daca o poza are sau nu adaugat filtru sepia.\r\n",
    "\r\n",
    "Team leaderul echipei de ML iti propune urmatorul plan de lucru \r\n",
    "- devoltarea, antrenarea si testarea unui clasificator bazat pe retele neuronale folosind date mai simple, de tip caracteristici numerice - de ex datele cu irisi) \r\n",
    "- devoltarea, antrenarea si testarea unui clasificator bazat pe retele neuronale folosind date mai complexe, de tip imagine - de ex baza de date cu cifre, pentru fiecare exmplu considerandu-se matricea de pixeli) \r\n",
    "- crearea unei baze cu imagini (cu si fara filtru sepia) si etichetele corespunzatoare \r\n",
    "- antrenarea si testarea clasificatorului (bazat pe retele neuronale artificiale – tool sau ANN-ul dezvoltat la pasul 2) pentru clasificarea imaginilor cu si fara filtru\r\n",
    "\r\n",
    "\r\n",
    "\r\n",
    "## Tema optionala\r\n",
    "\r\n",
    "-\timplementare algoritm de Programare genetica sau alt algoritm de invatare automata supervizata (SVM, Decision Tree, Naive Bayes, etc) pentru același task de diferențiere între poze cu și fără filtru.\r\n",
    "-\tDezvoltarea unei noi functionalitati de login in reteaua sociala pe baza de recunoastere faciala. Pentru aceasta se doreste implementarea unui sistem de recunoaștere a fețelor astfel:\r\n",
    "o\tExtragerea unor caractersitici din imaginile cu fete (Se poate folosi o librarie specializata precum Dlib )\r\n",
    "o\tClasificarea imaginilor pe baza acestor caracteristici \r\n",
    "\r\n"
   ],
   "metadata": {}
  }
 ],
 "metadata": {
  "language_info": {
   "name": "python",
   "version": "3.7.2",
   "mimetype": "text/x-python",
   "codemirror_mode": {
    "name": "ipython",
    "version": 3
   },
   "pygments_lexer": "ipython3",
   "nbconvert_exporter": "python",
   "file_extension": ".py"
  },
  "orig_nbformat": 2,
  "file_extension": ".py",
  "mimetype": "text/x-python",
  "name": "python",
  "npconvert_exporter": "python",
  "pygments_lexer": "ipython3",
  "version": 3,
  "kernelspec": {
   "name": "python3",
   "display_name": "Python 3.7.2 64-bit ('myenv': venv)"
  },
  "interpreter": {
   "hash": "e9dc543f66030a8dac45661f55ca2fb15f567084184f0424c1f0b6ed578c96be"
  }
 },
 "nbformat": 4,
 "nbformat_minor": 2
}